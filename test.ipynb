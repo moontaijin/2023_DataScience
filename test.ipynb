{
 "cells": [
  {
   "cell_type": "code",
   "execution_count": 1,
   "metadata": {},
   "outputs": [],
   "source": [
    "import torch"
   ]
  },
  {
   "cell_type": "code",
   "execution_count": 21,
   "metadata": {},
   "outputs": [
    {
     "name": "stdout",
     "output_type": "stream",
     "text": [
      "tensor([[0.4963, 0.7682, 0.0885, 0.1320]])\n",
      "Linear(in_features=4, out_features=1, bias=True)\n"
     ]
    }
   ],
   "source": [
    "torch.manual_seed(0)\n",
    "x = torch.rand(1,4)\n",
    "model = torch.nn.Linear(4,1)\n",
    "print(x)\n",
    "print(model)\n",
    "model.eval()\n",
    "\n",
    "for idx, param in enumerate(model.parameters()):\n",
    "    param.requires_grad = True\n",
    "    if idx == 1:\n",
    "        param.requires_grad = False\n",
    "        \n",
    "x.requires_grad = True\n",
    "y = torch.tensor([[1.0]])\n",
    "optim = torch.optim.SGD([x],lr=0.01)"
   ]
  },
  {
   "cell_type": "code",
   "execution_count": 22,
   "metadata": {},
   "outputs": [
    {
     "name": "stdout",
     "output_type": "stream",
     "text": [
      "True\n",
      "False\n"
     ]
    }
   ],
   "source": [
    "for idx, param in enumerate(model.parameters()):\n",
    "    print(param.requires_grad)"
   ]
  },
  {
   "cell_type": "code",
   "execution_count": 23,
   "metadata": {},
   "outputs": [
    {
     "name": "stdout",
     "output_type": "stream",
     "text": [
      "loss: tensor([[0.9855]], grad_fn=<SubBackward0>)\n",
      "param grad tensor([[-0.4963, -0.7682, -0.0885, -0.1320]])\n",
      "param grad None\n",
      "\n",
      "Backward\n",
      "param grad tensor([[-0.4963, -0.7682, -0.0885, -0.1320]])\n",
      "param grad None\n",
      "x grad: tensor([[ 0.1926, -0.1341,  0.0099, -0.3964]])\n",
      "\n",
      "loss: tensor([[0.9833]], grad_fn=<SubBackward0>)\n",
      "param grad tensor([[-0.9906, -1.5378, -0.1769, -0.2680]])\n",
      "param grad None\n",
      "\n",
      "Backward\n",
      "param grad tensor([[-0.9906, -1.5378, -0.1769, -0.2680]])\n",
      "param grad None\n",
      "x grad: tensor([[ 0.1926, -0.1341,  0.0099, -0.3964]])\n",
      "\n"
     ]
    }
   ],
   "source": [
    "for i in range(2):\n",
    "    pred = model(x)\n",
    "    loss = y - pred\n",
    "    print(f\"loss: {loss}\")\n",
    "    # for param in model.parameters():\n",
    "    #     print(f\"param grad {param.grad}\")\n",
    "    #     print(f\"param grad_fn {param.grad_fn}\")\n",
    "    # print()\n",
    "    optim.zero_grad()\n",
    "    # print(\"Forward\")\n",
    "    # print(f\"x: {x}\")\n",
    "    # print(\"model parameters gradient\")\n",
    "    # for param in model.parameters():\n",
    "    #     print(param.grad)\n",
    "    # print(f\"x gradient: {x.grad}\")\n",
    "    # for param in model.parameters():\n",
    "    #     #print(f\"param grad {param.grad}\")\n",
    "    #     print(f\"param grad_fn {param.grad_fn is not None}\")\n",
    "    # print()\n",
    "    loss.backward()\n",
    "    # print(f\"x: {x}\")\n",
    "    # print(\"model parameters gradient\")\n",
    "    # for param in model.parameters():\n",
    "    #     print(param.grad)\n",
    "    # print(f\"x grad: {x.grad}\")\n",
    "    for param in model.parameters():\n",
    "        print(f\"param grad {param.grad}\")\n",
    "        #print(f\"param grad_fn {param.grad_fn}\")\n",
    "    print()\n",
    "    optim.step()\n",
    "    print(\"Backward\")\n",
    "    # print(f\"x: {x}\")\n",
    "    # print(\"model parameters gradient\")\n",
    "    for param in model.parameters():\n",
    "        print(f\"param grad {param.grad}\")\n",
    "        #print(f\"param grad_fn {param.grad_fn}\")\n",
    "    print(f\"x grad: {x.grad}\")\n",
    "    print()"
   ]
  },
  {
   "cell_type": "code",
   "execution_count": 9,
   "metadata": {},
   "outputs": [
    {
     "name": "stdout",
     "output_type": "stream",
     "text": [
      "True\n",
      "True\n"
     ]
    }
   ],
   "source": [
    "for idx, param in enumerate(model.parameters()):\n",
    "    print(param.requires_grad)"
   ]
  },
  {
   "cell_type": "code",
   "execution_count": 8,
   "metadata": {},
   "outputs": [
    {
     "data": {
      "text/plain": [
       "NoneType"
      ]
     },
     "execution_count": 8,
     "metadata": {},
     "output_type": "execute_result"
    }
   ],
   "source": [
    "type(x.grad_fn)"
   ]
  },
  {
   "cell_type": "code",
   "execution_count": 7,
   "metadata": {},
   "outputs": [],
   "source": []
  },
  {
   "cell_type": "code",
   "execution_count": null,
   "metadata": {},
   "outputs": [],
   "source": []
  }
 ],
 "metadata": {
  "kernelspec": {
   "display_name": "llama",
   "language": "python",
   "name": "python3"
  },
  "language_info": {
   "codemirror_mode": {
    "name": "ipython",
    "version": 3
   },
   "file_extension": ".py",
   "mimetype": "text/x-python",
   "name": "python",
   "nbconvert_exporter": "python",
   "pygments_lexer": "ipython3",
   "version": "3.9.12"
  },
  "orig_nbformat": 4,
  "vscode": {
   "interpreter": {
    "hash": "42db38b08e4be0ff47565c9130111044b09664906edbc56c3f2faebf62b1836f"
   }
  }
 },
 "nbformat": 4,
 "nbformat_minor": 2
}
